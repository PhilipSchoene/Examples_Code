{
 "cells": [
  {
   "cell_type": "code",
   "execution_count": null,
   "metadata": {},
   "outputs": [],
   "source": [
    "import csv\n",
    "import random\n",
    "import time\n",
    "\n",
    "x_value = 0\n",
    "total_1 = 1000\n",
    "total_2 = 1000\n",
    "\n",
    "field = [\"x_value\", \"total_1\", \"total_2\"]\n",
    "\n",
    "with open(\"data.csv\", \"w\") as csv_file:\n",
    "    csv_writer = csv.DictWriter(csv_file, fieldnames = field)\n",
    "    csv_writer.writeheader()\n",
    "    \n",
    "while True:\n",
    "    \n",
    "    with open(\"data.csv\", \"a\") as csv_file:\n",
    "        csv_writer = csv.DictWriter(csv_file, fieldnames= field)\n",
    "        \n",
    "        info = {\"x_value\": x_value, \"total_1\": total_1, \"total_2\": total_2}\n",
    "        \n",
    "        csv_writer.writerow(info)\n",
    "        print(x_value, total_1, total_2)\n",
    "        \n",
    "        x_value += 1\n",
    "        total_1 = total_1 + random.randint(-6,8)\n",
    "        total_2 = total_2 + random.randint(-5,6)\n",
    "    \n",
    "    time.sleep(1)"
   ]
  },
  {
   "cell_type": "code",
   "execution_count": null,
   "metadata": {},
   "outputs": [],
   "source": [
    "import csv\n",
    "import random\n",
    "import time\n",
    "\n",
    "x_value = 0\n",
    "total_1 = 1000\n",
    "total_2 = 1000\n",
    "\n",
    "field = [\"x_value\", \"total_1\", \"total_2\"]\n",
    "\n",
    "with open(\"data.csv\", \"w\") as csv_file:\n",
    "    csv_writer = csv.DictWriter(csv_file, fieldnames = field)\n",
    "    csv_writer.writeheader()\n",
    "    \n",
    "while True:\n",
    "    \n",
    "    with open(\"data.csv\", \"a\") as csv_file:\n",
    "        csv_writer = csv.DictWriter(csv_file, fieldnames= field)\n",
    "        \n",
    "        info = {\"x_value\": x_value, \"total_1\": total_1, \"total_2\": total_2}\n",
    "        \n",
    "        csv_writer.writerow(info)\n",
    "        #print(x_value, total_1, total_2)\n",
    "        \n",
    "        x_value += 1\n",
    "        total_1 = total_1 + random.randint(-6,8)\n",
    "        total_2 = total_2 + random.randint(-5,6)\n",
    "    \n",
    "    time.sleep(1)"
   ]
  },
  {
   "cell_type": "code",
   "execution_count": null,
   "metadata": {},
   "outputs": [],
   "source": [
    "import csv\n",
    "import time\n",
    "import serial\n",
    "\n",
    "t = 0\n",
    "\n",
    "ueberschrift = [\"Zeit\", \"Analogwert\"]\n",
    "\n",
    "\n",
    "with open(\"daten.csv\", \"w\") as csv_file:\n",
    "    csv_writer = csv.DictWriter(csv_file, fieldnames = ueberschrift)\n",
    "    csv_writer.writeheader()\n",
    "    \n",
    "while True:\n",
    "     \n",
    "    ser = serial.Serial(port = \"/dev/cu.usbmodem14301\", baudrate = 9600, timeout = 1000)\n",
    "    ser_bytes = ser.readline()\n",
    "    Analogwert = int(ser_bytes.decode().strip('\\r\\n'))\n",
    "    \n",
    "    with open(\"daten.csv\", \"a\") as csv_file:\n",
    "        csv_writer = csv.DictWriter(csv_file, fieldnames= ueberschrift)\n",
    "        \n",
    "        info = {\"Zeit\": t, \"Analogwert\": Analogwert}\n",
    "        \n",
    "        csv_writer.writerow(info)\n",
    "        print(t,Analogwert)\n",
    "        \n",
    "    t += 1\n",
    "    \n",
    "    time.sleep(1)"
   ]
  },
  {
   "cell_type": "code",
   "execution_count": null,
   "metadata": {},
   "outputs": [],
   "source": [
    "import serial \n",
    "import time\n",
    "\n",
    "while True:\n",
    "    \n",
    "    ser = serial.Serial(port = \"/dev/cu.usbmodem14301\", timeout = 1000) \n",
    "    ser_bytes = ser.readline(10)\n",
    "    time.sleep(1)\n",
    "    #print(ser_bytes)\n",
    "    print(int(ser_bytes.decode().strip('\\r\\n')))"
   ]
  },
  {
   "cell_type": "code",
   "execution_count": null,
   "metadata": {},
   "outputs": [],
   "source": [
    "a = b'534\\r\\n'               # Loesung der Misere mia\n",
    "b = a.decode().strip('\\r\\n')\n",
    "int(b)"
   ]
  },
  {
   "cell_type": "code",
   "execution_count": null,
   "metadata": {},
   "outputs": [],
   "source": [
    "import serial\n",
    "import time\n",
    "\n",
    "while True:\n",
    "    ser = serial.Serial(port = \"/dev/cu.usbmodem14301\", timeout = 1000)\n",
    "    ser_byte = ser.readline()\n",
    "    time.sleep(1)\n",
    "    print(ser_byte)\n"
   ]
  },
  {
   "cell_type": "code",
   "execution_count": null,
   "metadata": {},
   "outputs": [],
   "source": []
  }
 ],
 "metadata": {
  "kernelspec": {
   "display_name": "Python 3 (ipykernel)",
   "language": "python",
   "name": "python3"
  },
  "language_info": {
   "codemirror_mode": {
    "name": "ipython",
    "version": 3
   },
   "file_extension": ".py",
   "mimetype": "text/x-python",
   "name": "python",
   "nbconvert_exporter": "python",
   "pygments_lexer": "ipython3",
   "version": "3.10.12"
  }
 },
 "nbformat": 4,
 "nbformat_minor": 4
}
