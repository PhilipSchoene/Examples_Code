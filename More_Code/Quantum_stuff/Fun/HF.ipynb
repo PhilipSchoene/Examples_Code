{
 "cells": [
  {
   "cell_type": "code",
   "execution_count": 19,
   "id": "82243c6e",
   "metadata": {},
   "outputs": [],
   "source": [
    "import numpy as np\n",
    "import numpy.linalg as lin\n",
    "from scipy.special import erf"
   ]
  },
  {
   "cell_type": "markdown",
   "id": "a7d61a59",
   "metadata": {},
   "source": [
    "## Implementation of Hartree-Fock \n",
    "\n",
    "The following code works only with 1s-type primitive gaussian functions"
   ]
  },
  {
   "cell_type": "code",
   "execution_count": 20,
   "id": "66f460ad",
   "metadata": {},
   "outputs": [],
   "source": [
    "sto3g = {\n",
    "    'H': {'exp': [0.168714, 0.623913, 3.42525], 'coeff': [0.444635, 0.535328, 0.154329]},\n",
    "    'He': {'exp': [0.1612778, 0.6076837, 3.42525], 'coeff': [0.444635, 0.535328, 0.154329]},\n",
    "    'C': {'exp': [0.109818, 0.405771, 2.22766], 'coeff': [0.444635, 0.535328, 0.154329]},\n",
    "    'O': {'exp': [0.105469, 0.397389, 2.35044], 'coeff': [0.444635, 0.535328, 0.154329]}\n",
    "}"
   ]
  },
  {
   "cell_type": "code",
   "execution_count": 21,
   "id": "b2973db3",
   "metadata": {},
   "outputs": [],
   "source": [
    "elements = {\"H\": 1, \"He\": 2, \"Li\": 3, \"Be\": 4, \"B\": 5, \"C\": 6, \"N\": 7, \"O\": 8, \"F\": 9, \"Ne\": 10, \n",
    "            \"Na\": 11, \"Mg\": 12, \"Al\": 13, \"Si\": 14, \"P\": 15, \"S\": 16, \"Cl\": 17, \"Ar\": 18, \"K\": 19, \n",
    "            \"Ca\": 20, \"Sc\": 21, \"Ti\": 22, \"V\": 23, \"Cr\": 24, \"Mn\": 25, \"Fe\": 26, \"Co\": 27, \"Ni\": 28, \n",
    "            \"Cu\": 29, \"Zn\": 30, \"Ga\": 31, \"Ge\": 32, \"As\": 33, \"Se\": 34, \"Br\": 35, \"Kr\": 36, \"Rb\": 37, \n",
    "            \"Sr\": 38, \"Y\": 39, \"Zr\": 40, \"Nb\": 41, \"Mo\": 42, \"Tc\": 43, \"Ru\": 44, \"Rh\": 45, \"Pd\": 46, \n",
    "            \"Ag\": 47, \"Cd\": 48, \"In\": 49, \"Sn\": 50, \"Sb\": 51, \"Te\": 52, \"I\": 53, \"Xe\": 54, \"Cs\": 55, \n",
    "            \"Ba\": 56, \"La\": 57, \"Ce\": 58, \"Pr\": 59, \"Nd\": 60, \"Pm\": 61, \"Sm\": 62, \"Eu\": 63, \"Gd\": 64, \n",
    "            \"Tb\": 65, \"Dy\": 66, \"Ho\": 67, \"Er\": 68, \"Tm\": 69, \"Yb\": 70, \"Lu\": 71, \"Hf\": 72, \"Ta\": 73, \n",
    "            \"W\": 74, \"Re\": 75, \"Os\": 76, \"Ir\": 77, \"Pt\": 78, \"Au\": 79, \"Hg\": 80, \"Tl\": 81, \"Pb\": 82, \n",
    "            \"Bi\": 83, \"Th\": 90, \"Pa\": 91, \"U\": 92, \"Np\": 93, \"Pu\": 94, \"Am\": 95, \"Cm\": 96, \"Bk\": 97, \n",
    "            \"Cf\": 98, \"Es\": 99, \"Fm\": 100, \"Md\": 101, \"No\": 102, \"Lr\": 103}"
   ]
  },
  {
   "cell_type": "code",
   "execution_count": 22,
   "id": "818f21dc",
   "metadata": {},
   "outputs": [],
   "source": [
    "# construct basis and cores\n",
    "\n",
    "def read_xyz(filename, elements=elements, sto3g=sto3g):\n",
    "    #if filename.endswith(\".xyz\"):\n",
    "    with open(filename, 'r') as f:\n",
    "        natoms = int(f.readline())\n",
    "\n",
    "        # Skip comment line\n",
    "        f.readline()\n",
    "\n",
    "        cores = []\n",
    "        atom_info = []\n",
    "\n",
    "        # Read in data for each atom\n",
    "        for i in range(natoms):\n",
    "            line = f.readline().split()\n",
    "            cores.append([elements[line[0]], np.array([float(line[1]), float(line[2]), float(line[3])]), line[0]])\n",
    "            atom_info.append([np.array([float(line[1]), float(line[2]), float(line[3])]), line[0]])\n",
    "\n",
    "    return cores, atom_info\n",
    "\n",
    "def make_basis(atom_info):\n",
    "    basis = []\n",
    "    for data in atom_info:\n",
    "        basis.append([data[0], sto3g[data[1]][\"exp\"], sto3g[data[1]][\"coeff\"]])\n",
    "    return basis"
   ]
  },
  {
   "cell_type": "markdown",
   "id": "ef9e3e04",
   "metadata": {},
   "source": [
    "#### Product of two gaussians"
   ]
  },
  {
   "cell_type": "code",
   "execution_count": 23,
   "id": "03443434",
   "metadata": {},
   "outputs": [],
   "source": [
    "def gauss_product(R_A, R_B, a, b):\n",
    "    K = np.exp(-a*b*lin.norm(R_A-R_B)**2/(a+b))\n",
    "    R_p = (a*R_A + b*R_B)/(a+b)\n",
    "    p = a + b\n",
    "    return K, R_p, p          "
   ]
  },
  {
   "cell_type": "code",
   "execution_count": 24,
   "id": "aca0e374",
   "metadata": {},
   "outputs": [],
   "source": [
    "def Fo(t):\n",
    "    # see Szabo Ostlund p. 415\n",
    "    # setup slightly adapted error function\n",
    "    if t == 0:\n",
    "        return 1\n",
    "    else:\n",
    "        return 0.5*np.sqrt((np.pi/t))*erf(np.sqrt(t))"
   ]
  },
  {
   "cell_type": "code",
   "execution_count": 25,
   "id": "59e54a67",
   "metadata": {},
   "outputs": [],
   "source": [
    "def prefactor(a,b):\n",
    "    return (2*a/np.pi)**(3/4) * (2*b/np.pi)**(3/4)"
   ]
  },
  {
   "cell_type": "markdown",
   "id": "eb2a9c10",
   "metadata": {},
   "source": [
    "## One electron intergrals"
   ]
  },
  {
   "cell_type": "code",
   "execution_count": 26,
   "id": "dc6b6e56",
   "metadata": {},
   "outputs": [],
   "source": [
    "def overlap(R_A, R_B, a, b):\n",
    "    return prefactor(a,b) * (np.pi/(a+b))**(3/2) * np.exp(-a*b/(a+b)*lin.norm(R_A-R_B)**2)"
   ]
  },
  {
   "cell_type": "code",
   "execution_count": 27,
   "id": "bbf10509",
   "metadata": {},
   "outputs": [],
   "source": [
    "def kinetic(R_A, R_B, a, b):\n",
    "    diff = lin.norm(R_A-R_B)**2\n",
    "    coeff = a*b/(a+b)\n",
    "    return prefactor(a,b) * coeff*(3-2*coeff*diff)*(np.pi/(a+b))**(3/2)*np.exp(-coeff*diff)"
   ]
  },
  {
   "cell_type": "code",
   "execution_count": 28,
   "id": "0fcb2601",
   "metadata": {},
   "outputs": [],
   "source": [
    "def potential(charge, pos, R_A, R_B, a, b):\n",
    "    K, R_p, p = gauss_product(R_A, R_B, a, b)\n",
    "    return prefactor(a,b)*(-2)*np.pi/p*charge*K*Fo(p*lin.norm(R_p - pos)**2)"
   ]
  },
  {
   "cell_type": "markdown",
   "id": "41cff60e",
   "metadata": {},
   "source": [
    "## Two electron integrals"
   ]
  },
  {
   "cell_type": "code",
   "execution_count": 29,
   "id": "894fcbcc",
   "metadata": {},
   "outputs": [],
   "source": [
    "def two_electron(R_A, R_B, R_C, R_D, a, b, c, d):\n",
    "    K, R_p, p = gauss_product(R_A, R_B, a, b)\n",
    "    G, R_Q, q = gauss_product(R_C, R_C, c, d)\n",
    "    return prefactor(a,b)*prefactor(c,d)*2*np.pi**(5/2)/(p*q*np.sqrt(p+q)) * K * G * Fo(p*q/(p+q)*lin.norm(R_p-R_Q)**2)"
   ]
  },
  {
   "cell_type": "markdown",
   "id": "d88eb038",
   "metadata": {},
   "source": [
    "## Core repulsion"
   ]
  },
  {
   "cell_type": "code",
   "execution_count": 30,
   "id": "a6a0f79e",
   "metadata": {},
   "outputs": [],
   "source": [
    "def V_NN(cores):\n",
    "    VN = 0\n",
    "    for i, Z_1 in enumerate(cores):\n",
    "        for j, Z_2 in enumerate(cores):\n",
    "            if i == j:\n",
    "                continue\n",
    "            VN += Z_1[0] * Z_2[0] / lin.norm(Z_1[1] - Z_2[1])\n",
    "    return 0.5 * VN"
   ]
  },
  {
   "cell_type": "markdown",
   "id": "eef6dbab",
   "metadata": {},
   "source": [
    "basis = np.array[[[R1], [exp1], [coef1]], [[R3], [exp2], [coef2]], [[R3], [exp3], [coef3]]]\n",
    "\n",
    "cores = np.array([[Z1, [R1]], [Z2, [R2]], [Z3, [R3]]]"
   ]
  },
  {
   "cell_type": "code",
   "execution_count": 31,
   "id": "0f2119fe",
   "metadata": {},
   "outputs": [],
   "source": [
    "def single_electron_matrix(basis, num_gauss, cores):\n",
    "    \n",
    "    num_basis = len(basis)\n",
    "    \n",
    "    S = np.zeros((num_basis, num_basis)) # overlap matrix\n",
    "    T = np.zeros((num_basis, num_basis)) # kinetic energy matrix\n",
    "    V = np.zeros((num_basis, num_basis)) # potential energy matrix\n",
    "    \n",
    "    # Spater ausnutzen, dass Matrix hermitesch ist\n",
    "    \n",
    "    # Iterate through contracted functions\n",
    "    for i in range(num_basis):\n",
    "        basis_1 = basis[i]\n",
    "        R_A = basis_1[0]\n",
    "    \n",
    "        for j in range(num_basis):\n",
    "            basis_2 = basis[j]\n",
    "            R_B = basis_2[0]\n",
    "            \n",
    "            E_kin = 0\n",
    "            over = 0\n",
    "            V_pot = 0\n",
    "            \n",
    "            # Compute Integrals with gaussians\n",
    "            for k in range(num_gauss):\n",
    "                a = basis_1[1][k]\n",
    "                c_a = basis_1[2][k]\n",
    "                \n",
    "                for l in range(num_gauss):         \n",
    "                    b = basis_2[1][l]\n",
    "                    c_b = basis_2[2][l]\n",
    "                    \n",
    "                    E_kin += c_a * c_b * kinetic(R_A, R_B, a, b)\n",
    "                    over += c_a * c_b * overlap(R_A, R_B, a, b)\n",
    "                    \n",
    "                    for kern in range(len(cores)):\n",
    "                        Z = cores[kern][0]\n",
    "                        pos = cores[kern][1]\n",
    "                        \n",
    "                        V_pot += c_a * c_b * potential(Z, pos, R_A, R_B, a, b)\n",
    "                    \n",
    "            T[i,j] = E_kin \n",
    "            S[i,j] = over\n",
    "            V[i,j] = V_pot\n",
    "    \n",
    "    return S, T, V "
   ]
  },
  {
   "cell_type": "code",
   "execution_count": 32,
   "id": "575824a1",
   "metadata": {},
   "outputs": [],
   "source": [
    "def two_electron_matrix(basis, num_gauss):\n",
    "    num_basis = len(basis)\n",
    "    \n",
    "    tensor = np.zeros((num_basis, num_basis, num_basis, num_basis)) # two electron tensor\n",
    "    \n",
    "    # wiecores[0][0] kann ich Hermitizitat fur diesen Tensor ausnutzen\n",
    "    \n",
    "    # Iterate through contracted functions\n",
    "    # I know this is not fast, as loops are very slow in python, vectrorize for bigger molecules!!!\n",
    "    for i in range(num_basis):\n",
    "        basis_1 = basis[i]\n",
    "        R_A = basis_1[0]\n",
    "        \n",
    "        for j in range(num_basis):\n",
    "            basis_2 = basis[j]\n",
    "            R_B = basis_2[0]\n",
    "            \n",
    "            for k in range(num_basis):\n",
    "                basis_3 = basis[k]\n",
    "                R_C = basis_3[0]\n",
    "                \n",
    "                for l in range(num_basis):\n",
    "                    basis_4 = basis[j]\n",
    "                    R_D = basis_4[0]\n",
    "                    \n",
    "                    value = 0\n",
    "                    for u in range(num_gauss):\n",
    "                        a = basis_1[1][u]\n",
    "                        c_a = basis_1[2][u]\n",
    "                        \n",
    "                        for v in range(num_gauss):\n",
    "                            b = basis_2[1][v]\n",
    "                            c_b = basis_2[2][v]\n",
    "                            \n",
    "                            for w in range(num_gauss):\n",
    "                                c = basis_3[1][w]\n",
    "                                c_c = basis_3[2][w]\n",
    "                                \n",
    "                                for x in range(num_gauss):\n",
    "                                    d = basis_4[1][x]\n",
    "                                    c_d = basis_4[2][x]\n",
    "                                    \n",
    "                                    value += c_a*c_b*c_c*c_d*two_electron(R_A, R_B, R_C, R_D, a, b, c, d)\n",
    "                                    \n",
    "                    tensor[i,j,k,l] = value\n",
    "                                    \n",
    "    return tensor"
   ]
  },
  {
   "cell_type": "markdown",
   "id": "46a28537",
   "metadata": {},
   "source": [
    "## Constuct Fock matrix"
   ]
  },
  {
   "cell_type": "code",
   "execution_count": 33,
   "id": "c5cd26b8",
   "metadata": {},
   "outputs": [],
   "source": [
    "# Reads in Geometry and computes all relevant properties\n",
    "\n",
    "cores, atom_info = read_xyz(\"H2.xyz\")\n",
    "basis = make_basis(atom_info)\n",
    "num_gauss = 3\n",
    "\n",
    "num_electrons = 2\n",
    "num_occ_orbitals = num_electrons / 2 # weil RHF\n",
    "num_basis = len(basis) # number of basis functions\n",
    "\n",
    "# Makes initial guess for density matrix D\n",
    "occupation = num_occ_orbitals/ num_basis # distribute the number of all RHF electrons (num_electrons / 2)\n",
    "D = np.diag(np.full((1,num_basis), occupation)[0]) # same as np.diag([occupation for i in range(12)])\n",
    "\n",
    "# Computes single electron matrices\n",
    "S, T, V = single_electron_matrix(basis, num_gauss, cores)\n",
    "H0 = T + V\n",
    "\n",
    "# Computes Fock Matrix\n",
    "tensor = two_electron_matrix(basis, num_gauss)\n",
    "\n",
    "V_NN = V_NN(cores)"
   ]
  },
  {
   "cell_type": "code",
   "execution_count": 34,
   "id": "bced9d18",
   "metadata": {},
   "outputs": [],
   "source": [
    "# The actual SCF procedure\n",
    "\n",
    "def SCF_procedure(delta_E, S=S, H0=H0, tensor=tensor, D=D, V_NN=V_NN, num_basis=num_basis):\n",
    "    \n",
    "    HF_wavefunction = np.array([]) # Denstiy matrix * basis_functions\n",
    "    \n",
    "    # Compute Fock Matrix with density matrix\n",
    "    \n",
    "    # Constructs initial Fock matrix\n",
    "    F = np.zeros((num_basis,num_basis))\n",
    "    \n",
    "    for i in range(num_basis):\n",
    "        for j in range(num_basis):\n",
    "            value = 0\n",
    "            for k in range(num_basis):\n",
    "                for l in range(num_basis):\n",
    "                    value += D[k,l] * (2 *tensor[i,j,k,l] * tensor[i,k,j,l])                \n",
    "            F[i,j] = H0[i,j] + value\n",
    "            \n",
    "    # Compute eigenvalues of Fock matrix\n",
    "    # Output Energy from occ \n",
    "    # construct new density matrix if not converged and repeat process\n",
    "    \n",
    "    energy = 10 \n",
    "    last_energy = 0\n",
    "    iteration = 1\n",
    "    max_iterations = 100\n",
    "    \n",
    "    while abs(energy - last_energy) > delta_E and iteration < max_iterations:\n",
    "        \n",
    "        print(f\"\\n Iteration {iteration} \\n\")\n",
    "        print(\"\\n Density matrix\", D)\n",
    "        print(\"\\n Fock matrix\", F)\n",
    "        print(f\"\\n Energy in Ha: {energy} \\t for Iteration {iteration} \\n\")\n",
    "        \n",
    "    energy = energy + V_NN # Final energy that includes core repulsion\n",
    "    \n",
    "    return energy, HF_wavefunction, iteration"
   ]
  },
  {
   "cell_type": "markdown",
   "id": "5035750f",
   "metadata": {},
   "source": [
    "## Diagonalize Fock-Matrix"
   ]
  },
  {
   "cell_type": "code",
   "execution_count": 35,
   "id": "0488c18f",
   "metadata": {},
   "outputs": [],
   "source": [
    "evalS, U = lin.eig(S)\n",
    "diagS = np.dot(U.T, np.dot(S,U))\n",
    "diagS_minushalf = np.diag(np.diagonal(diagS)**(-0.5))\n",
    "X = np.dot(U, np.dot(diagS_minushalf, U.T))"
   ]
  },
  {
   "cell_type": "code",
   "execution_count": null,
   "id": "f695a390",
   "metadata": {},
   "outputs": [],
   "source": []
  },
  {
   "cell_type": "code",
   "execution_count": null,
   "id": "8f100468",
   "metadata": {},
   "outputs": [],
   "source": []
  }
 ],
 "metadata": {
  "kernelspec": {
   "display_name": "Python 3 (ipykernel)",
   "language": "python",
   "name": "python3"
  },
  "language_info": {
   "codemirror_mode": {
    "name": "ipython",
    "version": 3
   },
   "file_extension": ".py",
   "mimetype": "text/x-python",
   "name": "python",
   "nbconvert_exporter": "python",
   "pygments_lexer": "ipython3",
   "version": "3.10.12"
  }
 },
 "nbformat": 4,
 "nbformat_minor": 5
}
